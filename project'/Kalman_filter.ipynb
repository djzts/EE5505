{
 "cells": [
  {
   "cell_type": "code",
   "execution_count": 169,
   "metadata": {},
   "outputs": [],
   "source": [
    "import matplotlib.pyplot as plt\n",
    "import autograd as ag\n",
    "import autograd.numpy as np\n",
    "import scipy.linalg as la\n",
    "import scipy.signal as sp\n",
    "import scipy.stats as st\n",
    "import scipy.integrate as itg\n",
    "%matplotlib inline"
   ]
  },
  {
   "cell_type": "code",
   "execution_count": 170,
   "metadata": {},
   "outputs": [],
   "source": [
    "# let start our project\n",
    "#We want to keep track of car to find its moving characters.\n",
    "#fortunately we have some anntenas sending the signals and receive those feedback messages.\n",
    "#Assume a user is moving xi+1=Phi*xi Yi=Phi*xi\n",
    "#Let us start place some antennas in the area."
   ]
  },
  {
   "cell_type": "markdown",
   "metadata": {},
   "source": [
    "In this Project, we will use the extended Kalman filter to track the movement of a simple \n",
    "vehicle model given in discrete-time by:\n",
    "\\begin{equation*}\n",
    "\\begin{bmatrix}\n",
    "p_x[k+1] \\\\\n",
    "p_y[k+1] \\\\\n",
    "\\theta[k+1]\n",
    "\\end{bmatrix}\n",
    "=\n",
    "\\begin{bmatrix}\n",
    "p_x[k] \\\\\n",
    "p_y[k] \\\\\n",
    "\\theta[k]\n",
    "\\end{bmatrix} + dt \n",
    "\\begin{bmatrix}\n",
    "u_v[k] \\cos(\\theta[k]) \\\\ \n",
    "u_v[k] \\sin(\\theta[k]) \\\\\n",
    "u_\\omega[k]\n",
    "\\end{bmatrix}\n",
    "+w[k].\n",
    "\\end{equation*}\n",
    "\n",
    "\n"
   ]
  },
  {
   "cell_type": "markdown",
   "metadata": {},
   "source": [
    "Here $dt$ is the time-step and $w[k]$ is the process noise. We will assume that $dt=0.1$ and the process noise is independent Gaussian noise distributed as $w[k] \\sim \\mathcal{N}(0,0.0001I)$.\n",
    "\n",
    "We stack the state and inputs as:\n",
    "\\begin{equation*}\n",
    "x[k] = \\begin{bmatrix}\n",
    "p_x[k] \\\\\n",
    "p_y[k] \\\\\n",
    "\\theta[k]\n",
    "\\end{bmatrix}\n",
    "\\quad \n",
    "u[k] = \\begin{bmatrix}\n",
    "u_v[k] \\\\\n",
    "u_\\omega[k]\n",
    "\\end{bmatrix}\n",
    "\\end{equation*}\n",
    "\n",
    "The initial condition, control input, $u[0],\\ldots,u[100]$, and noise terms $w[0],\\ldots,w[100]$ are given below. \n"
   ]
  },
  {
   "cell_type": "code",
   "execution_count": 294,
   "metadata": {},
   "outputs": [],
   "source": [
    "#Assume initial is \n",
    "x0=np.array([-1.42272315,1.66878427,-7.02389097])\n",
    "#Assume a driver does 5 moves \n",
    "n_u=5\n",
    "#u=(np.random.rand(n_u,2)-np.array([0,0.5]))* np.array([2,1])\n",
    "u=np.array([[1.49609465,0.24219884],\n",
    " [0.92401463,0.45875257],\n",
    " [0.10876148,0.43543185],\n",
    " [1.97321445,0.46318528],\n",
    " [0.49352292,0.38270178]])\n",
    "#set every move is equal to 20 unit time\n",
    "num=20\n",
    "U=np.repeat(u, 20, axis=0)\n",
    "#add noise\n",
    "total=n_u*num\n",
    "Wp=0.0001 * np.random.randn(total, 3)\n",
    "#print(U)\n"
   ]
  },
  {
   "cell_type": "code",
   "execution_count": 295,
   "metadata": {},
   "outputs": [
    {
     "data": {
      "image/png": "[encoded data removed]",
      "text/plain": [
       "<Figure size 432x288 with 1 Axes>"
      ]
     },
     "metadata": {
      "needs_background": "light"
     },
     "output_type": "display_data"
    }
   ],
   "source": [
    "list=[(x0)]\n",
    "temp=(x0)\n",
    "for k in range(total):\n",
    "    temp=temp+([0.1*U[k][0]*np.cos(temp[2]),0.1*U[k][0]*np.sin(temp[2]),0.1*U[k][1]])+(Wp[k])\n",
    "    list.append(temp)\n",
    "X=np.array(list)\n",
    "plt.plot(X[:,0],X[:,1])\n",
    "plt.plot(X[0,0],X[0,1],'go')\n",
    "plt.plot(X[-1,0],X[-1,1],'rs')\n",
    "plt.gca().set_aspect('equal')\n",
    "\n"
   ]
  },
  {
   "cell_type": "code",
   "execution_count": 296,
   "metadata": {},
   "outputs": [],
   "source": [
    "dfdx = ag.jacobian(step,0)\n",
    "dfdw = ag.jacobian(step,2)\n",
    "\n",
    "def dot(*mats):\n",
    "    if len(mats) == 1:\n",
    "        return mats[0]\n",
    "    else:\n",
    "        return np.dot(mats[0],dot(*mats[1:]))\n",
    "\n",
    "def carTimeUpdate(x,P,u):\n",
    "    w =np.zeros(3)\n",
    "\n",
    "    x_next = step(x,u,w)\n",
    "    \n",
    "    F = dfdx(x,u,w)\n",
    "    L = dfdw(x,u,w)\n",
    "\n",
    "    Q = 0.0001 * np.eye(3)\n",
    "    P_next = dot(F,P,F.T) + dot(L,Q,L.T)\n",
    "\n",
    "    return x_next,P_next\n"
   ]
  },
  {
   "cell_type": "code",
   "execution_count": 297,
   "metadata": {},
   "outputs": [
    {
     "data": {
      "image/png": "[encoded data removed]",
      "text/plain": [
       "<Figure size 432x288 with 1 Axes>"
      ]
     },
     "metadata": {
      "needs_background": "light"
     },
     "output_type": "display_data"
    }
   ],
   "source": [
    "Sen_num=len(range(-2, 5, 2))*len((0, 5, 2))\n",
    "SensorLocs =np.zeros(shape=(Sen_num,2))\n",
    "i=0\n",
    "for xx in range(-2, 5, 2):\n",
    "    for yy in range(0, 5, 2) :\n",
    "        SensorLocs[i,0]=xx\n",
    "        SensorLocs[i,1]=yy\n",
    "        i=i+1\n",
    "        \n",
    "#print(SensorLocs)\n",
    "#print(a)\n",
    "# Each row of SensorStr is the x-y coordinate of a sensor\n",
    "plt.plot(SensorLocs[:,0],SensorLocs[:,1],'.')\n",
    "plt.plot(X[:,0],X[:,1])\n",
    "plt.plot(X[0,0],X[0,1],'go')\n",
    "plt.plot(X[-1,0],X[-1,1],'rs')\n",
    "plt.gca().set_aspect('equal')\n",
    "\n"
   ]
  },
  {
   "cell_type": "code",
   "execution_count": 331,
   "metadata": {},
   "outputs": [
    {
     "data": {
      "text/plain": [
       "array([1.76581129, 0.66554671, 2.40162764, 2.19293915, 1.46076864,\n",
       "       2.73106352, 3.8078701 , 3.43871162, 4.14120762, 5.6736908 ,\n",
       "       5.43282893, 5.9025836 ])"
      ]
     },
     "execution_count": 331,
     "metadata": {},
     "output_type": "execute_result"
    }
   ],
   "source": [
    "la.norm(X[0,:2]-SensorLocs,axis=1)\n"
   ]
  },
  {
   "cell_type": "code",
   "execution_count": 332,
   "metadata": {},
   "outputs": [],
   "source": [
    "#Calculate Y\n",
    "\n",
    "Y=np.zeros((len(X),Sen_num))\n",
    "for i in range(len(X)):\n",
    "    Y[i,:]=la.norm(X[i,:2]-SensorLocs,axis=1)\n",
    "\n",
    "\n",
    "    \n"
   ]
  },
  {
   "cell_type": "code",
   "execution_count": 333,
   "metadata": {},
   "outputs": [
    {
     "name": "stdout",
     "output_type": "stream",
     "text": [
      "12\n"
     ]
    }
   ],
   "source": [
    "# Define your function here\n",
    "nSensors = len(SensorLocs)\n",
    "print(nSensors)\n",
    "noiseStd = 0.2\n",
    "def measure(x,v):\n",
    "    d = np.linalg.norm(SensorLocs-np.outer(np.ones(nSensors),x[:2]),axis=1)\n",
    "    y = d + noiseStd * (1+d)*v\n",
    "    return y\n",
    "\n",
    "dhdx = ag.jacobian(measure,0)\n",
    "dhdv = ag.jacobian(measure,1)\n",
    "\n",
    "\n"
   ]
  },
  {
   "cell_type": "code",
   "execution_count": 334,
   "metadata": {},
   "outputs": [],
   "source": [
    "dt=0.1\n",
    "mu = np.zeros(3)\n",
    "P = 10 * np.eye(3)\n",
    "\n",
    "Mu_list = []\n",
    "P_list = []\n",
    "\n",
    "for k,y in enumerate(Y):\n",
    "    Mu_list.append(mu)\n",
    "    P_list.append(P)\n",
    "    v = np.zeros_like(y)\n",
    "    H = dhdx(x,v)\n",
    "    G = dhdv(x,v)\n",
    "    Psi = dot(H,P,H.T) + dot(G,G.T)\n",
    "    K = np.linalg.solve(Psi,np.dot(H,P)).T\n",
    "    h = measure(x,v)\n",
    "    x_next = x + np.dot(K,y-h)\n",
    "    P_next = P - dot(K,Psi,K.T)\n",
    "    mu=x_next\n",
    "    P=P_next\n",
    "    #print(mu)\n",
    "    #Mu_list.append(mu)\n",
    "    #P_list.append(P)\n",
    "\n",
    "    if k < len(U):\n",
    "        mu,P = carTimeUpdate(mu,P,U[k])\n",
    "\n",
    "Mu = np.array(Mu_list)\n",
    "P_arr = np.array(P_list)\n",
    "\n",
    "\n"
   ]
  },
  {
   "cell_type": "code",
   "execution_count": 335,
   "metadata": {},
   "outputs": [
    {
     "data": {
      "text/plain": [
       "[<matplotlib.lines.Line2D at 0x1c231fbda0>]"
      ]
     },
     "execution_count": 335,
     "metadata": {},
     "output_type": "execute_result"
    },
    {
     "data": {
      "image/png": "[encoded data removed]",
      "text/plain": [
       "<Figure size 432x288 with 3 Axes>"
      ]
     },
     "metadata": {
      "needs_background": "light"
     },
     "output_type": "display_data"
    }
   ],
   "source": [
    "# Make your plots here.\n",
    "\n",
    "time=np.linspace(0,(total+1)*dt,num=total+1)\n",
    "plt.subplot(1,3,1)\n",
    "plt.plot(time,Mu[:,0],'x')\n",
    "plt.plot(time,X[:,0],'-')\n",
    "plt.subplot(1,3,2)\n",
    "plt.plot(time,Mu[:,1],'x')\n",
    "plt.plot(time,X[:,1],'-')\n",
    "plt.subplot(1,3,3)\n",
    "plt.plot(time,Mu[:,2],'x')\n",
    "plt.plot(time,X[:,2]+7,'-')\n",
    "#matplotlib.pyplot.ylim(-3.14,3.14)"
   ]
  },
  {
   "cell_type": "code",
   "execution_count": null,
   "metadata": {},
   "outputs": [],
   "source": []
  },
  {
   "cell_type": "code",
   "execution_count": null,
   "metadata": {},
   "outputs": [],
   "source": []
  },
  {
   "cell_type": "code",
   "execution_count": null,
   "metadata": {},
   "outputs": [],
   "source": []
  },
  {
   "cell_type": "code",
   "execution_count": null,
   "metadata": {},
   "outputs": [],
   "source": []
  },
  {
   "cell_type": "code",
   "execution_count": null,
   "metadata": {},
   "outputs": [],
   "source": []
  },
  {
   "cell_type": "code",
   "execution_count": 265,
   "metadata": {},
   "outputs": [
    {
     "name": "stdout",
     "output_type": "stream",
     "text": [
      "[[-1.42272315  1.66878427 -7.02389097]\n",
      " [-1.36112731  1.62592075 -6.88484577]\n",
      " [-1.34125458  1.61335452 -6.92758385]\n",
      " [-1.3277598   1.61167172 -6.92643736]\n",
      " [-1.31933329  1.61160395 -6.93338588]\n",
      " [-1.31296727  1.61281657 -6.93872629]\n",
      " [-1.30803877  1.61439307 -6.94373057]\n",
      " [-1.30419126  1.6159649  -6.94854508]\n",
      " [-1.30113514  1.6174173  -6.95307748]\n",
      " [-1.29874485  1.61856994 -6.95744897]\n",
      " [-1.29686828  1.61954997 -6.96151013]\n",
      " [-1.29538551  1.62043393 -6.96521744]\n",
      " [-1.29417183  1.62137204 -6.96849786]\n",
      " [-1.29321775  1.62243011 -6.97140776]\n",
      " [-1.2924476   1.62369292 -6.97394078]\n",
      " [-1.29181617  1.62514764 -6.97614825]\n",
      " [-1.29129499  1.62664769 -6.97812915]\n",
      " [-1.29084859  1.62807588 -6.97994433]\n",
      " [-1.29048196  1.62931358 -6.98165916]\n",
      " [-1.29017748  1.63031686 -6.98329129]\n",
      " [-1.28990366  1.63109093 -6.98483418]\n",
      " [-1.29359359  1.62891672 -6.98816632]\n",
      " [-1.29626152  1.62764563 -6.99057748]\n",
      " [-1.29817808  1.62700309 -6.9923387 ]\n",
      " [-1.29952435  1.62679705 -6.99363038]\n",
      " [-1.30043213  1.6269003  -6.99457529]\n",
      " [-1.30098979  1.6272436  -6.99525096]\n",
      " [-1.30127588  1.62776692 -6.99572045]\n",
      " [-1.30137183  1.62844161 -6.99603253]\n",
      " [-1.30139635  1.62922987 -6.99624588]\n",
      " [-1.30140999  1.63013869 -6.99638412]\n",
      " [-1.30137601  1.63114093 -6.99644805]\n",
      " [-1.30124237  1.63222226 -6.99642988]\n",
      " [-1.30100224  1.63337237 -6.99633447]\n",
      " [-1.30065513  1.63459357 -6.99616463]\n",
      " [-1.30021117  1.63587811 -6.99592858]\n",
      " [-1.2996907   1.63720736 -6.99563988]\n",
      " [-1.29910188  1.63857856 -6.99530365]\n",
      " [-1.29844876  1.64000705 -6.99491872]\n",
      " [-1.2977474   1.64147265 -6.99449667]\n",
      " [-1.29700279  1.64298765 -6.99403692]\n",
      " [-1.30057156  1.63962175 -6.99648136]\n",
      " [-1.30357858  1.63685251 -6.99855172]\n",
      " [-1.30614554  1.63453747 -7.00032846]\n",
      " [-1.30835316  1.63258605 -7.00186471]\n",
      " [-1.31026056  1.630941   -7.00319747]\n",
      " [-1.31191629  1.62955269 -7.00435771]\n",
      " [-1.31336111  1.62837439 -7.00537259]\n",
      " [-1.31463042  1.62736664 -7.00626514]\n",
      " [-1.31574771  1.62650352 -7.00705115]\n",
      " [-1.31673615  1.62576636 -7.00774401]\n",
      " [-1.31761032  1.6251361  -7.00835461]\n",
      " [-1.31838682  1.62460038 -7.00889234]\n",
      " [-1.31907511  1.62415196 -7.00936323]\n",
      " [-1.31968971  1.62377136 -7.00977738]\n",
      " [-1.32023706  1.62345833 -7.01013791]\n",
      " [-1.32072734  1.62319394 -7.01045329]\n",
      " [-1.32116558  1.62298406 -7.01072452]\n",
      " [-1.32155806  1.62281202 -7.01095826]\n",
      " [-1.32190912  1.62268488 -7.01115483]\n",
      " [-1.32222487  1.62258688 -7.01132046]\n",
      " [-1.31608117  1.63254211 -7.00075534]\n",
      " [-1.30784157  1.6451801  -6.98992791]\n",
      " [-1.29789058  1.66015472 -6.97930462]\n",
      " [-1.28679433  1.67691177 -6.96935233]\n",
      " [-1.27523555  1.69471578 -6.96049134]\n",
      " [-1.26390137  1.71278148 -6.95302355]\n",
      " [-1.25339173  1.73037168 -6.94710662]\n",
      " [-1.24415151  1.74689154 -6.94275083]\n",
      " [-1.23644457  1.76192938 -6.93984704]\n",
      " [-1.23035509  1.77527773 -6.93819884]\n",
      " [-1.22584002  1.78688169 -6.93757721]\n",
      " [-1.22277157  1.79682252 -6.93774584]\n",
      " [-1.22098952  1.80523221 -6.93849799]\n",
      " [-1.22032674  1.81226796 -6.93966208]\n",
      " [-1.22062513  1.81809477 -6.94110143]\n",
      " [-1.22176388  1.82284163 -6.94272287]\n",
      " [-1.22377972  1.82645512 -6.94452797]\n",
      " [-1.22738535  1.82807034 -6.94685011]\n",
      " [-1.23245798  1.82780682 -6.94960979]\n",
      " [-1.23805252  1.8268135  -6.95235543]\n",
      " [-1.25154123  1.81088212 -6.95918472]\n",
      " [-1.26261019  1.79804216 -6.96462968]\n",
      " [-1.27186317  1.78752064 -6.96902665]\n",
      " [-1.27972495  1.77879508 -6.97260835]\n",
      " [-1.28648869  1.77148288 -6.97554201]\n",
      " [-1.29237766  1.7653063  -6.97795224]\n",
      " [-1.29755441  1.76005625 -6.97993251]\n",
      " [-1.30214231  1.75557619 -6.98155412]\n",
      " [-1.30624267  1.75173916 -6.98287539]\n",
      " [-1.30992503  1.74844707 -6.98394038]\n",
      " [-1.31325269  1.74561855 -6.98478705]\n",
      " [-1.31626992  1.74319371 -6.98544388]\n",
      " [-1.31902113  1.74111897 -6.98593727]\n",
      " [-1.3215425   1.73935272 -6.98628874]\n",
      " [-1.32386432  1.73785625 -6.98651757]\n",
      " [-1.32600148  1.73659886 -6.98663753]\n",
      " [-1.32797288  1.7355523  -6.98666242]\n",
      " [-1.3298015   1.73469418 -6.98660541]\n",
      " [-1.33149861  1.73400471 -6.98647627]\n",
      " [-1.33308097  1.73346668 -6.98628525]]\n"
     ]
    }
   ],
   "source": [
    "print(Mu)"
   ]
  },
  {
   "cell_type": "code",
   "execution_count": null,
   "metadata": {},
   "outputs": [],
   "source": []
  },
  {
   "cell_type": "code",
   "execution_count": 278,
   "metadata": {},
   "outputs": [],
   "source": [
    "# Calculate the estimates here\n",
    "# Call them Mu and P_arr\n",
    "#dt=0.1\n",
    "#mu = np.zeros(3)\n",
    "#P = 10 * np.eye(3)\n",
    "\n",
    "#Mu_list = []\n",
    "#P_list = []\n",
    "\n",
    "#for k,y in enumerate(Y):\n",
    "#    mu,P = carMeasUpdate(mu,P,y)\n",
    "#    #print(mu)\n",
    "#    Mu_list.append(mu)\n",
    "#    P_list.append(P)\n",
    "\n",
    "#    if k < len(U):\n",
    "#        mu,P = carTimeUpdate(mu,P,U[k])\n",
    "\n",
    "#Mu = np.array(Mu_list)\n",
    "#P_arr = np.array(P_list)\n",
    "#Mu.shape\n",
    "\n",
    "\n",
    "def carMeasUpdate(x,P,y):\n",
    "    v = np.zeros_like(y)\n",
    "    H = dhdx(x,v)\n",
    "    G = dhdv(x,v)\n",
    "    Psi = dot(H,P,H.T) + dot(G,G.T)\n",
    "    \n",
    "    K = np.linalg.solve(Psi,np.dot(H,P)).T\n",
    "    \n",
    "    h = measure(x,v)\n",
    "    print(H)\n",
    "    x_next = x + np.dot(K,y-h)\n",
    "    P_next = P - dot(K,Psi,K.T)\n",
    "\n",
    "    return x_next,P_next"
   ]
  },
  {
   "cell_type": "code",
   "execution_count": null,
   "metadata": {},
   "outputs": [],
   "source": []
  }
 ],
 "metadata": {
  "kernelspec": {
   "display_name": "Python 3",
   "language": "python",
   "name": "python3"
  },
  "language_info": {
   "codemirror_mode": {
    "name": "ipython",
    "version": 3
   },
   "file_extension": ".py",
   "mimetype": "text/x-python",
   "name": "python",
   "nbconvert_exporter": "python",
   "pygments_lexer": "ipython3",
   "version": "3.7.1"
  }
 },
 "nbformat": 4,
 "nbformat_minor": 2
}
