{
 "cells": [
  {
   "cell_type": "code",
   "execution_count": 1,
   "metadata": {},
   "outputs": [],
   "source": [
    "import matplotlib.pyplot as plt\n",
    "import autograd as ag\n",
    "import autograd.numpy as np\n",
    "import scipy.linalg as la\n",
    "import scipy.signal as sp\n",
    "import scipy.stats as st\n",
    "import scipy.integrate as itg\n",
    "%matplotlib inline"
   ]
  },
  {
   "cell_type": "markdown",
   "metadata": {},
   "source": [
    "In this Project, we will use the extended Kalman filter to track the movement of a simple \n",
    "vehicle model given in discrete-time by:\n",
    "\\begin{equation*}\n",
    "\\begin{bmatrix}\n",
    "p_x[k+1] \\\\\n",
    "p_y[k+1] \\\\\n",
    "\\theta[k+1]\n",
    "\\end{bmatrix}\n",
    "=\n",
    "\\begin{bmatrix}\n",
    "p_x[k] \\\\\n",
    "p_y[k] \\\\\n",
    "\\theta[k]\n",
    "\\end{bmatrix} + dt \n",
    "\\begin{bmatrix}\n",
    "u_v[k] \\cos(\\theta[k]) \\\\ \n",
    "u_v[k] \\sin(\\theta[k]) \\\\\n",
    "u_\\omega[k]\n",
    "\\end{bmatrix}\n",
    "+w[k].\n",
    "\\end{equation*}\n",
    "Here $dt$ is the time-step and $w[k]$ is the process noise. We will assume that $dt=0.1$ and the process noise is independent Gaussian noise distributed as $w[k] \\sim \\mathcal{N}(0,0.0001I)$.\n",
    "\n",
    "We stack the state and inputs as:\n",
    "\\begin{equation*}\n",
    "x[k] = \\begin{bmatrix}\n",
    "p_x[k] \\\\\n",
    "p_y[k] \\\\\n",
    "\\theta[k]\n",
    "\\end{bmatrix}\n",
    "\\quad \n",
    "u[k] = \\begin{bmatrix}\n",
    "u_v[k] \\\\\n",
    "u_\\omega[k]\n",
    "\\end{bmatrix}\n",
    "\\end{equation*}\n",
    "\n",
    "The initial condition, control input, $u[0],\\ldots,u[100]$, and noise terms $w[0],\\ldots,w[100]$ are given below. \n"
   ]
  },
  {
   "cell_type": "code",
   "execution_count": 2,
   "metadata": {},
   "outputs": [],
   "source": [
    "#Assume initial is \n",
    "x0=np.array([-1.42272315,1.66878427,-7.02389097])\n",
    "#Assume a driver does 5 moves \n",
    "n_u=5\n",
    "#u=(np.random.rand(n_u,2)-np.array([0,0.5]))* np.array([2,1])\n",
    "u=np.array([[1.49609465,0.24219884],\n",
    " [0.92401463,0.45875257],\n",
    " [0.10876148,0.43543185],\n",
    " [1.97321445,0.46318528],\n",
    " [0.49352292,0.38270178]])\n",
    "#set every move is equal to 20 unit time\n",
    "num=20\n",
    "U=np.repeat(u, 20, axis=0)\n",
    "#add noise\n",
    "total=n_u*num\n",
    "Wp=0.0001 * np.random.randn(total, 3)\n",
    "#print(U)"
   ]
  },
  {
   "cell_type": "code",
   "execution_count": 3,
   "metadata": {},
   "outputs": [
    {
     "data": {
      "image/png": "[encoded data removed]",
      "text/plain": [
       "<Figure size 432x288 with 1 Axes>"
      ]
     },
     "metadata": {
      "needs_background": "light"
     },
     "output_type": "display_data"
    }
   ],
   "source": [
    "list=[(x0)]\n",
    "temp=(x0)\n",
    "for k in range(total):\n",
    "    temp=temp+([0.1*U[k][0]*np.cos(temp[2]),0.1*U[k][0]*np.sin(temp[2]),0.1*U[k][1]])+(Wp[k])\n",
    "    list.append(temp)\n",
    "X=np.array(list)\n",
    "plt.plot(X[:,0],X[:,1])\n",
    "plt.plot(X[0,0],X[0,1],'go')\n",
    "plt.plot(X[-1,0],X[-1,1],'rs')\n",
    "plt.gca().set_aspect('equal')"
   ]
  },
  {
   "cell_type": "code",
   "execution_count": 4,
   "metadata": {},
   "outputs": [
    {
     "data": {
      "image/png": "[encoded data removed]",
      "text/plain": [
       "<Figure size 432x288 with 1 Axes>"
      ]
     },
     "metadata": {
      "needs_background": "light"
     },
     "output_type": "display_data"
    }
   ],
   "source": [
    "Sen_num=len(range(-2, 5, 2))*len((0, 5, 2))\n",
    "SensorLocs =np.zeros(shape=(Sen_num,2))\n",
    "i=0\n",
    "for xx in range(-2, 5, 2):\n",
    "    for yy in range(0, 5, 2) :\n",
    "        SensorLocs[i,0]=xx\n",
    "        SensorLocs[i,1]=yy\n",
    "        i=i+1\n",
    "        \n",
    "#print(SensorLocs)\n",
    "#print(a)\n",
    "# Each row of SensorStr is the x-y coordinate of a sensor\n",
    "plt.plot(SensorLocs[:,0],SensorLocs[:,1],'.')\n",
    "plt.plot(X[:,0],X[:,1])\n",
    "plt.plot(X[0,0],X[0,1],'go')\n",
    "plt.plot(X[-1,0],X[-1,1],'rs')\n",
    "plt.gca().set_aspect('equal')"
   ]
  },
  {
   "cell_type": "code",
   "execution_count": null,
   "metadata": {},
   "outputs": [],
   "source": []
  },
  {
   "cell_type": "code",
   "execution_count": null,
   "metadata": {},
   "outputs": [],
   "source": []
  },
  {
   "cell_type": "code",
   "execution_count": null,
   "metadata": {},
   "outputs": [],
   "source": [
    "dfdx = ag.jacobian(step,0)\n",
    "dfdw = ag.jacobian(step,2)\n",
    "\n",
    "def dot(*mats):\n",
    "    if len(mats) == 1:\n",
    "        return mats[0]\n",
    "    else:\n",
    "        return np.dot(mats[0],dot(*mats[1:]))\n",
    "\n",
    "def carTimeUpdate(x,P,u):\n",
    "    w =np.zeros(3)\n",
    "\n",
    "    x_next = step(x,u,w)\n",
    "    \n",
    "    F = dfdx(x,u,w)\n",
    "    L = dfdw(x,u,w)\n",
    "\n",
    "    Q = 0.0001 * np.eye(3)\n",
    "    P_next = dot(F,P,F.T) + dot(L,Q,L.T)\n",
    "\n",
    "    return x_next,P_next"
   ]
  }
 ],
 "metadata": {
  "kernelspec": {
   "display_name": "Python 3",
   "language": "python",
   "name": "python3"
  },
  "language_info": {
   "codemirror_mode": {
    "name": "ipython",
    "version": 3
   },
   "file_extension": ".py",
   "mimetype": "text/x-python",
   "name": "python",
   "nbconvert_exporter": "python",
   "pygments_lexer": "ipython3",
   "version": "3.7.1"
  }
 },
 "nbformat": 4,
 "nbformat_minor": 2
}
